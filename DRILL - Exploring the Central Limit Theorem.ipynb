{
 "cells": [
  {
   "cell_type": "code",
   "execution_count": 2,
   "metadata": {},
   "outputs": [],
   "source": [
    "import numpy as np\n",
    "import pandas as pd\n",
    "import scipy\n",
    "import matplotlib.pyplot as plt\n",
    "%matplotlib inline"
   ]
  },
  {
   "cell_type": "code",
   "execution_count": 3,
   "metadata": {
    "collapsed": true
   },
   "outputs": [],
   "source": [
    "pop1 = np.random.binomial(10, 0.2, 10000)\n",
    "pop2 = np.random.binomial(10,0.5, 10000) "
   ]
  },
  {
   "cell_type": "code",
   "execution_count": 6,
   "metadata": {
    "collapsed": true
   },
   "outputs": [],
   "source": [
    "sample1 = np.random.choice(pop1, 100, replace=True)\n",
    "sample2 = np.random.choice(pop2, 100, replace=True)"
   ]
  },
  {
   "cell_type": "code",
   "execution_count": 21,
   "metadata": {},
   "outputs": [
    {
     "name": "stdout",
     "output_type": "stream",
     "text": [
      "1.68\n",
      "5.1\n",
      "1.12142766151\n",
      "1.55884572681\n",
      "Ttest_indResult(statistic=17.720329789877614, pvalue=2.6516549876807669e-41)\n"
     ]
    }
   ],
   "source": [
    "print(sample1.mean())\n",
    "print(sample2.mean())\n",
    "print(sample1.std())\n",
    "print(sample2.std())\n",
    "from scipy.stats import ttest_ind\n",
    "print(ttest_ind(sample2, sample1, equal_var=False))"
   ]
  },
  {
   "cell_type": "code",
   "execution_count": 22,
   "metadata": {},
   "outputs": [
    {
     "name": "stdout",
     "output_type": "stream",
     "text": [
      "2.992\n",
      "5.0\n",
      "1.43106114475\n",
      "1.61058995402\n",
      "Ttest_indResult(statistic=29.457567288375746, pvalue=2.3552476435091405e-158)\n"
     ]
    }
   ],
   "source": [
    "sample3= np.random.choice(pop1, 1000, replace=True)\n",
    "sample4 = np.random.choice(pop2, 1000, replace=True)\n",
    "\n",
    "print(sample3.mean())\n",
    "print(sample4.mean())\n",
    "print(sample3.std())\n",
    "print(sample4.std())\n",
    "from scipy.stats import ttest_ind\n",
    "print(ttest_ind(sample4, sample3, equal_var=False))"
   ]
  },
  {
   "cell_type": "code",
   "execution_count": 18,
   "metadata": {},
   "outputs": [
    {
     "data": {
      "image/png": "[encoded data removed]",
      "text/plain": [
       "<matplotlib.figure.Figure at 0xc30204c8d0>"
      ]
     },
     "metadata": {},
     "output_type": "display_data"
    }
   ],
   "source": [
    "plt.hist(sample3)\n",
    "plt.show()"
   ]
  },
  {
   "cell_type": "code",
   "execution_count": 11,
   "metadata": {},
   "outputs": [
    {
     "data": {
      "image/png": "[encoded data removed]",
      "text/plain": [
       "<matplotlib.figure.Figure at 0xc301d26b00>"
      ]
     },
     "metadata": {},
     "output_type": "display_data"
    }
   ],
   "source": [
    "plt.hist(sample4)\n",
    "plt.show()"
   ]
  },
  {
   "cell_type": "code",
   "execution_count": 19,
   "metadata": {},
   "outputs": [
    {
     "name": "stdout",
     "output_type": "stream",
     "text": [
      "2.65\n",
      "4.55\n",
      "1.55804364509\n",
      "1.74570902501\n",
      "Ttest_indResult(statistic=3.5394708476378973, pvalue=0.0010888445712915092)\n"
     ]
    }
   ],
   "source": [
    "sample5= np.random.choice(pop1, 20, replace=True)\n",
    "sample6 = np.random.choice(pop2, 20, replace=True)\n",
    "\n",
    "print(sample5.mean())\n",
    "print(sample6.mean())\n",
    "print(sample5.std())\n",
    "print(sample6.std())\n",
    "from scipy.stats import ttest_ind\n",
    "print(ttest_ind(sample6, sample5, equal_var=False))"
   ]
  },
  {
   "cell_type": "code",
   "execution_count": 40,
   "metadata": {},
   "outputs": [
    {
     "name": "stdout",
     "output_type": "stream",
     "text": [
      "Ttest_indResult(statistic=9.4311480025309748, pvalue=1.1332809077660796e-17)\n"
     ]
    }
   ],
   "source": [
    "pop1 = np.random.binomial(10, 0.3, 10000)\n",
    "sample7 = np.random.choice(pop1, 100, replace=True)\n",
    "from scipy.stats import ttest_ind\n",
    "print(ttest_ind(sample2, sample7, equal_var=False))"
   ]
  },
  {
   "cell_type": "code",
   "execution_count": 43,
   "metadata": {},
   "outputs": [
    {
     "name": "stdout",
     "output_type": "stream",
     "text": [
      "Ttest_indResult(statistic=6.3743972577228849, pvalue=1.2648220550880486e-09)\n"
     ]
    }
   ],
   "source": [
    "pop1 = np.random.binomial(10, 0.4, 10000)\n",
    "sample9 = np.random.choice(pop1, 100, replace=True)\n",
    "from scipy.stats import ttest_ind\n",
    "print(ttest_ind(sample2, sample9, equal_var=False))"
   ]
  },
  {
   "cell_type": "code",
   "execution_count": null,
   "metadata": {
    "collapsed": true
   },
   "outputs": [],
   "source": [
    "# The t stat seems to be lowering and the p value is rising although still very close to 0. This will happen regardless of distribution when sample size is increased."
   ]
  },
  {
   "cell_type": "code",
   "execution_count": null,
   "metadata": {
    "collapsed": true
   },
   "outputs": [],
   "source": []
  }
 ],
 "metadata": {
  "kernelspec": {
   "display_name": "Python 3",
   "language": "python",
   "name": "python3"
  },
  "language_info": {
   "codemirror_mode": {
    "name": "ipython",
    "version": 3
   },
   "file_extension": ".py",
   "mimetype": "text/x-python",
   "name": "python",
   "nbconvert_exporter": "python",
   "pygments_lexer": "ipython3",
   "version": "3.6.1"
  }
 },
 "nbformat": 4,
 "nbformat_minor": 2
}
